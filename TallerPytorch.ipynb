{
 "cells": [
  {
   "cell_type": "code",
   "execution_count": 13,
   "id": "21c2d37d-252f-4689-a3d9-15e0f4966ff6",
   "metadata": {},
   "outputs": [
    {
     "name": "stdout",
     "output_type": "stream",
     "text": [
      "Circle : 785596\n",
      "Square : 1000000\n",
      "3.142384\n"
     ]
    }
   ],
   "source": [
    "import numpy as np\n",
    "def MC_Simualtion():\n",
    "    Radius = 0.5\n",
    "    Circle = 0\n",
    "    Big_Square = 0\n",
    "    \n",
    "    for i in range(1000000):\n",
    "        x = np.random.uniform(-Radius,Radius)\n",
    "        y = np.random.uniform(-Radius,Radius)\n",
    "    \n",
    "        #Distance between the coodinate and origin should be <=5\n",
    "        Distance = (np.sqrt(y**2 + x**2))\n",
    "    \n",
    "        if(Distance <= Radius):\n",
    "             Circle = Circle + 1\n",
    "        else:\n",
    "             Big_Square = Big_Square + 1\n",
    "    \n",
    "    Big_Square = Circle + Big_Square\n",
    "    \n",
    "    Ratio_Big_Square = Circle/Big_Square\n",
    "    print(\"Circle : {}\".format(Circle))\n",
    "    print(\"Square : {}\".format(Big_Square))\n",
    "    \n",
    "    ## So the above Ratio_Big_Square is the Ratio of area of square to circle. The multiplication of this ratio to four gives us exact Pi value\n",
    "    \n",
    "    Ratio =  4*Ratio_Big_Square\n",
    "    \n",
    "    return Ratio\n",
    "\n",
    "Result = MC_Simualtion()\n",
    "print(Result)\n"
   ]
  }
 ],
 "metadata": {
  "kernelspec": {
   "display_name": "Python 3 (ipykernel)",
   "language": "python",
   "name": "python3"
  },
  "language_info": {
   "codemirror_mode": {
    "name": "ipython",
    "version": 3
   },
   "file_extension": ".py",
   "mimetype": "text/x-python",
   "name": "python",
   "nbconvert_exporter": "python",
   "pygments_lexer": "ipython3",
   "version": "3.13.5"
  }
 },
 "nbformat": 4,
 "nbformat_minor": 5
}
